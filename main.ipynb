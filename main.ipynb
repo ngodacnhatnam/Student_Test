{
 "cells": [
  {
   "cell_type": "code",
   "execution_count": 1,
   "metadata": {},
   "outputs": [],
   "source": [
    "import pandas as pd\n",
    "from datetime import datetime"
   ]
  },
  {
   "cell_type": "code",
   "execution_count": 2,
   "metadata": {},
   "outputs": [],
   "source": [
    "cat = pd.read_csv('/Users/b00merz/Desktop/WhatDoYouKnow/grockit_all_data/category_labels.csv')\n",
    "training = pd.read_csv('/Users/b00merz/Desktop/WhatDoYouKnow/grockit_all_data/training.csv')\n"
   ]
  },
  {
   "cell_type": "code",
   "execution_count": 4,
   "metadata": {},
   "outputs": [],
   "source": [
    "# cat.head(10)\n",
    "# training.head(10)"
   ]
  },
  {
   "cell_type": "code",
   "execution_count": 21,
   "metadata": {},
   "outputs": [
    {
     "name": "stdout",
     "output_type": "stream",
     "text": [
      "<class 'pandas.core.frame.DataFrame'>\n",
      "RangeIndex: 82926 entries, 0 to 82925\n",
      "Data columns (total 12 columns):\n",
      " #   Column            Non-Null Count  Dtype \n",
      "---  ------            --------------  ----- \n",
      " 0   user_id           82926 non-null  int64 \n",
      " 1   question_id       82926 non-null  int64 \n",
      " 2   question_type     82926 non-null  object\n",
      " 3   group_name        82926 non-null  object\n",
      " 4   track_name        82926 non-null  object\n",
      " 5   subtrack_name     82926 non-null  object\n",
      " 6   tag_string        82926 non-null  object\n",
      " 7   round_started_at  82926 non-null  object\n",
      " 8   game_type         82921 non-null  object\n",
      " 9   num_players       82926 non-null  int64 \n",
      " 10  date_of_test      14321 non-null  object\n",
      " 11  question_set_id   82926 non-null  object\n",
      "dtypes: int64(3), object(9)\n",
      "memory usage: 7.6+ MB\n"
     ]
    }
   ],
   "source": [
    "# cat.info()\n",
    "# training.info()"
   ]
  },
  {
   "cell_type": "code",
   "execution_count": 3,
   "metadata": {},
   "outputs": [],
   "source": [
    "training = training.drop(\"date_of_test\", axis = 'columns')"
   ]
  },
  {
   "cell_type": "code",
   "execution_count": 4,
   "metadata": {},
   "outputs": [],
   "source": [
    "# change 0000-00-00 00:00:00 value to 1900-01-01 01:01:01\n",
    "training = training.replace(['0000-00-00 00:00:00'],'1900-01-01 01:01:01')"
   ]
  },
  {
   "cell_type": "code",
   "execution_count": 5,
   "metadata": {},
   "outputs": [],
   "source": [
    "# fill na with a specific val \n",
    "training['answered_at'] = training['answered_at'].fillna('1900-01-01 01:01:01')\n"
   ]
  },
  {
   "cell_type": "code",
   "execution_count": 6,
   "metadata": {},
   "outputs": [],
   "source": [
    "training['deactivated_at'] = training['deactivated_at'].fillna('1900-01-01 01:01:01')"
   ]
  },
  {
   "cell_type": "code",
   "execution_count": 7,
   "metadata": {},
   "outputs": [],
   "source": [
    "\n",
    "# change column to datetime\n",
    "training['round_started_at'] = pd.to_datetime( training['round_started_at'],format='%Y%m%d %H:%M:%S') "
   ]
  },
  {
   "cell_type": "code",
   "execution_count": 8,
   "metadata": {},
   "outputs": [],
   "source": [
    "# change column to datetime\n",
    "training['deactivated_at'] = pd.to_datetime( training['deactivated_at'],format='%Y%m%d %H:%M:%S') "
   ]
  },
  {
   "cell_type": "code",
   "execution_count": 9,
   "metadata": {},
   "outputs": [],
   "source": [
    "# change col to datetime\n",
    "training['answered_at'] = pd.to_datetime( training['answered_at'],format='%Y%m%d %H:%M:%S') "
   ]
  },
  {
   "cell_type": "code",
   "execution_count": 10,
   "metadata": {},
   "outputs": [
    {
     "data": {
      "text/plain": [
       "3969"
      ]
     },
     "execution_count": 10,
     "metadata": {},
     "output_type": "execute_result"
    }
   ],
   "source": [
    "training['question_set_id'].nunique()"
   ]
  },
  {
   "cell_type": "code",
   "execution_count": 12,
   "metadata": {},
   "outputs": [],
   "source": [
    "training['round_started_date'] = pd.to_datetime(training['round_started_at']).dt.date\n",
    "training['round_started_time'] = pd.to_datetime(training['round_started_at']).dt.time"
   ]
  },
  {
   "cell_type": "code",
   "execution_count": 14,
   "metadata": {},
   "outputs": [],
   "source": [
    "training['answered_date'] = pd.to_datetime(training['round_started_at']).dt.date\n",
    "training['answered_time'] = pd.to_datetime(training['round_started_at']).dt.time"
   ]
  },
  {
   "cell_type": "code",
   "execution_count": 15,
   "metadata": {},
   "outputs": [],
   "source": [
    "training['deactivated_date'] = pd.to_datetime(training['round_started_at']).dt.date\n",
    "training['deactivated_time'] = pd.to_datetime(training['round_started_at']).dt.time"
   ]
  },
  {
   "cell_type": "code",
   "execution_count": 19,
   "metadata": {},
   "outputs": [],
   "source": [
    "training = training.drop('round_started_at', axis='columns')"
   ]
  },
  {
   "cell_type": "code",
   "execution_count": 21,
   "metadata": {},
   "outputs": [],
   "source": [
    "training = training.drop('answered_at', axis='columns')"
   ]
  },
  {
   "cell_type": "code",
   "execution_count": 22,
   "metadata": {},
   "outputs": [],
   "source": [
    "training = training.drop('deactivated_at', axis='columns')"
   ]
  },
  {
   "cell_type": "code",
   "execution_count": 23,
   "metadata": {},
   "outputs": [
    {
     "data": {
      "text/html": [
       "<div>\n",
       "<style scoped>\n",
       "    .dataframe tbody tr th:only-of-type {\n",
       "        vertical-align: middle;\n",
       "    }\n",
       "\n",
       "    .dataframe tbody tr th {\n",
       "        vertical-align: top;\n",
       "    }\n",
       "\n",
       "    .dataframe thead th {\n",
       "        text-align: right;\n",
       "    }\n",
       "</style>\n",
       "<table border=\"1\" class=\"dataframe\">\n",
       "  <thead>\n",
       "    <tr style=\"text-align: right;\">\n",
       "      <th></th>\n",
       "      <th>correct</th>\n",
       "      <th>outcome</th>\n",
       "      <th>user_id</th>\n",
       "      <th>question_id</th>\n",
       "      <th>question_type</th>\n",
       "      <th>group_name</th>\n",
       "      <th>track_name</th>\n",
       "      <th>subtrack_name</th>\n",
       "      <th>tag_string</th>\n",
       "      <th>answer_id</th>\n",
       "      <th>game_type</th>\n",
       "      <th>num_players</th>\n",
       "      <th>question_set_id</th>\n",
       "      <th>round_started_date</th>\n",
       "      <th>round_started_time</th>\n",
       "      <th>answered_date</th>\n",
       "      <th>answered_time</th>\n",
       "      <th>deactivated_date</th>\n",
       "      <th>deactivated_time</th>\n",
       "    </tr>\n",
       "  </thead>\n",
       "  <tbody>\n",
       "    <tr>\n",
       "      <th>0</th>\n",
       "      <td>0</td>\n",
       "      <td>2</td>\n",
       "      <td>85818</td>\n",
       "      <td>5560</td>\n",
       "      <td>0</td>\n",
       "      <td>1</td>\n",
       "      <td>5</td>\n",
       "      <td>14</td>\n",
       "      <td>222 233 240 246</td>\n",
       "      <td>6540</td>\n",
       "      <td>7</td>\n",
       "      <td>1</td>\n",
       "      <td>1567</td>\n",
       "      <td>2010-08-18</td>\n",
       "      <td>20:17:13</td>\n",
       "      <td>2010-08-18</td>\n",
       "      <td>20:17:13</td>\n",
       "      <td>2010-08-18</td>\n",
       "      <td>20:17:13</td>\n",
       "    </tr>\n",
       "    <tr>\n",
       "      <th>1</th>\n",
       "      <td>1</td>\n",
       "      <td>1</td>\n",
       "      <td>85818</td>\n",
       "      <td>4681</td>\n",
       "      <td>0</td>\n",
       "      <td>1</td>\n",
       "      <td>5</td>\n",
       "      <td>0</td>\n",
       "      <td>24 49</td>\n",
       "      <td>4742</td>\n",
       "      <td>7</td>\n",
       "      <td>1</td>\n",
       "      <td>1227</td>\n",
       "      <td>2010-08-18</td>\n",
       "      <td>20:19:12</td>\n",
       "      <td>2010-08-18</td>\n",
       "      <td>20:19:12</td>\n",
       "      <td>2010-08-18</td>\n",
       "      <td>20:19:12</td>\n",
       "    </tr>\n",
       "    <tr>\n",
       "      <th>2</th>\n",
       "      <td>1</td>\n",
       "      <td>1</td>\n",
       "      <td>85818</td>\n",
       "      <td>1529</td>\n",
       "      <td>0</td>\n",
       "      <td>1</td>\n",
       "      <td>5</td>\n",
       "      <td>0</td>\n",
       "      <td>31 49</td>\n",
       "      <td>4309</td>\n",
       "      <td>7</td>\n",
       "      <td>1</td>\n",
       "      <td>1148</td>\n",
       "      <td>2010-08-18</td>\n",
       "      <td>20:20:42</td>\n",
       "      <td>2010-08-18</td>\n",
       "      <td>20:20:42</td>\n",
       "      <td>2010-08-18</td>\n",
       "      <td>20:20:42</td>\n",
       "    </tr>\n",
       "    <tr>\n",
       "      <th>3</th>\n",
       "      <td>1</td>\n",
       "      <td>1</td>\n",
       "      <td>85818</td>\n",
       "      <td>2908</td>\n",
       "      <td>0</td>\n",
       "      <td>1</td>\n",
       "      <td>5</td>\n",
       "      <td>0</td>\n",
       "      <td>31 49</td>\n",
       "      <td>4408</td>\n",
       "      <td>7</td>\n",
       "      <td>1</td>\n",
       "      <td>1168</td>\n",
       "      <td>2010-08-18</td>\n",
       "      <td>20:22:03</td>\n",
       "      <td>2010-08-18</td>\n",
       "      <td>20:22:03</td>\n",
       "      <td>2010-08-18</td>\n",
       "      <td>20:22:03</td>\n",
       "    </tr>\n",
       "    <tr>\n",
       "      <th>4</th>\n",
       "      <td>1</td>\n",
       "      <td>1</td>\n",
       "      <td>85818</td>\n",
       "      <td>1773</td>\n",
       "      <td>0</td>\n",
       "      <td>1</td>\n",
       "      <td>5</td>\n",
       "      <td>11</td>\n",
       "      <td>183 194 207</td>\n",
       "      <td>10822</td>\n",
       "      <td>7</td>\n",
       "      <td>1</td>\n",
       "      <td>2318</td>\n",
       "      <td>2010-08-18</td>\n",
       "      <td>20:23:11</td>\n",
       "      <td>2010-08-18</td>\n",
       "      <td>20:23:11</td>\n",
       "      <td>2010-08-18</td>\n",
       "      <td>20:23:11</td>\n",
       "    </tr>\n",
       "  </tbody>\n",
       "</table>\n",
       "</div>"
      ],
      "text/plain": [
       "   correct  outcome  user_id  question_id  question_type  group_name  \\\n",
       "0        0        2    85818         5560              0           1   \n",
       "1        1        1    85818         4681              0           1   \n",
       "2        1        1    85818         1529              0           1   \n",
       "3        1        1    85818         2908              0           1   \n",
       "4        1        1    85818         1773              0           1   \n",
       "\n",
       "   track_name  subtrack_name       tag_string  answer_id  game_type  \\\n",
       "0           5             14  222 233 240 246       6540          7   \n",
       "1           5              0            24 49       4742          7   \n",
       "2           5              0            31 49       4309          7   \n",
       "3           5              0            31 49       4408          7   \n",
       "4           5             11      183 194 207      10822          7   \n",
       "\n",
       "   num_players  question_set_id round_started_date round_started_time  \\\n",
       "0            1             1567         2010-08-18           20:17:13   \n",
       "1            1             1227         2010-08-18           20:19:12   \n",
       "2            1             1148         2010-08-18           20:20:42   \n",
       "3            1             1168         2010-08-18           20:22:03   \n",
       "4            1             2318         2010-08-18           20:23:11   \n",
       "\n",
       "  answered_date answered_time deactivated_date deactivated_time  \n",
       "0    2010-08-18      20:17:13       2010-08-18         20:17:13  \n",
       "1    2010-08-18      20:19:12       2010-08-18         20:19:12  \n",
       "2    2010-08-18      20:20:42       2010-08-18         20:20:42  \n",
       "3    2010-08-18      20:22:03       2010-08-18         20:22:03  \n",
       "4    2010-08-18      20:23:11       2010-08-18         20:23:11  "
      ]
     },
     "execution_count": 23,
     "metadata": {},
     "output_type": "execute_result"
    }
   ],
   "source": [
    "training.head(5)"
   ]
  },
  {
   "cell_type": "code",
   "execution_count": 13,
   "metadata": {},
   "outputs": [],
   "source": [
    "first_col = cat.pop('id')\n",
    "cat.insert(0, 'id', first_col)"
   ]
  },
  {
   "cell_type": "code",
   "execution_count": 91,
   "metadata": {},
   "outputs": [],
   "source": [
    "# cat.drop(labels=0, axis=0)"
   ]
  },
  {
   "cell_type": "code",
   "execution_count": 88,
   "metadata": {},
   "outputs": [],
   "source": [
    "cat['id'] = cat['id'].convert_dtypes(int)"
   ]
  },
  {
   "cell_type": "code",
   "execution_count": 93,
   "metadata": {},
   "outputs": [],
   "source": [
    "cat.to_csv('transformed_cat.csv', sep=';', encoding='utf-8', index=False)"
   ]
  },
  {
   "cell_type": "code",
   "execution_count": 24,
   "metadata": {},
   "outputs": [],
   "source": [
    "training.to_csv('transformed_training.csv', sep=';', encoding='utf-8', index=False)"
   ]
  },
  {
   "cell_type": "code",
   "execution_count": null,
   "metadata": {},
   "outputs": [],
   "source": []
  }
 ],
 "metadata": {
  "kernelspec": {
   "display_name": "Python 3 (ipykernel)",
   "language": "python",
   "name": "python3"
  },
  "language_info": {
   "codemirror_mode": {
    "name": "ipython",
    "version": 3
   },
   "file_extension": ".py",
   "mimetype": "text/x-python",
   "name": "python",
   "nbconvert_exporter": "python",
   "pygments_lexer": "ipython3",
   "version": "3.9.13"
  },
  "vscode": {
   "interpreter": {
    "hash": "b0fa6594d8f4cbf19f97940f81e996739fb7646882a419484c72d19e05852a7e"
   }
  }
 },
 "nbformat": 4,
 "nbformat_minor": 4
}
